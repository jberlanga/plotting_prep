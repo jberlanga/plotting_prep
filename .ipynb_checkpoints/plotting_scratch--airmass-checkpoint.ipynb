{
 "cells": [
  {
   "cell_type": "markdown",
   "metadata": {},
   "source": [
    "# Plotting scratch notebook for Airmass"
   ]
  },
  {
   "cell_type": "markdown",
   "metadata": {},
   "source": [
    "## Jazmin's test plots"
   ]
  },
  {
   "cell_type": "code",
   "execution_count": 17,
   "metadata": {
    "collapsed": false
   },
   "outputs": [],
   "source": [
    "# plotting_scratch--airmass\n",
    "#\n",
    "# A scratchpad for astroplan airmass plots.\n",
    "#\n",
    "# Authored by Jazmin Berlanga Medina.\n",
    "# Summer 2015.\n",
    "# \n",
    "\n",
    "import numpy as np\n",
    "import matplotlib.pyplot as plt\n",
    "\n",
    "# Pull in input from file.\n",
    "times, airmasses = np.loadtxt(\"airmass_data\", delimiter='\\t', usecols=(0, 1), unpack=True)\n",
    "#airmasses = np.loadtxt(\"airmass_data\", delimiter='\\t', usecols=(1,), unpack=True)\n",
    "#times = []\n",
    "#for i in range(0, len(airmasses)):\n",
    "#    times.append(i)\n",
    "\n",
    "date = \"2015-01-15\"\n",
    "\n",
    "# Set up axes & plot.\n",
    "ax = plt.gca()\n",
    "airmass = ax.scatter(times, airmasses, color='r')\n",
    "plt.gca().invert_yaxis()\n",
    "\n",
    "airmass2 = ax.scatter(times, 1.5*airmasses, color='k')\n",
    "\n",
    "# Set labels, title, legend, etc.\n",
    "ax.set_ylabel(\"Airmass\")\n",
    "ax.set_xlabel(\"Hour\")\n",
    "ax.set_title(\"Airmass vs Time - Sirius - \"+date)\n",
    "\n",
    "plt.show()\n"
   ]
  },
  {
   "cell_type": "markdown",
   "metadata": {},
   "source": [
    "## Subplot example"
   ]
  },
  {
   "cell_type": "code",
   "execution_count": 1,
   "metadata": {
    "collapsed": true
   },
   "outputs": [],
   "source": [
    "# Subplot example\n",
    "\n",
    "import numpy as np\n",
    "import matplotlib.pyplot as plt\n",
    "\n",
    "def f(t):\n",
    "    return np.exp(-t) * np.cos(2*np.pi*t)\n",
    "\n",
    "t1 = np.arange(0.0, 5.0, 0.1)\n",
    "t2 = np.arange(0.0, 5.0, 0.02)\n",
    "\n",
    "plt.figure(1)\n",
    "plt.subplot(211)\n",
    "plt.plot(t1, f(t1), 'bo', t2, f(t2), 'k')\n",
    "\n",
    "plt.subplot(212)\n",
    "plt.plot(t2, np.cos(2*np.pi*t2), 'r--')\n",
    "plt.show()\n",
    "\n"
   ]
  },
  {
   "cell_type": "markdown",
   "metadata": {},
   "source": [
    "## Adrian's example from plotting API PR"
   ]
  },
  {
   "cell_type": "code",
   "execution_count": null,
   "metadata": {
    "collapsed": true
   },
   "outputs": [],
   "source": [
    "import matplotlb.pyplot as plt\n",
    "def plot_stuff(..., ax=None, style_kwargs=dict()):\n",
    "    if ax is None:\n",
    "        ax = plt.gca()\n",
    "    # ...\n",
    "    ax.plot(xx, **style_kwargs)"
   ]
  }
 ],
 "metadata": {},
 "nbformat": 4,
 "nbformat_minor": 0
}
