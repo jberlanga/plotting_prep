{
 "cells": [
  {
   "cell_type": "markdown",
   "metadata": {},
   "source": [
    "# Plotting scratch notebook for Parallactic Angle"
   ]
  },
  {
   "cell_type": "markdown",
   "metadata": {},
   "source": [
    "## Jazmin's test plots"
   ]
  },
  {
   "cell_type": "code",
   "execution_count": 10,
   "metadata": {
    "collapsed": false
   },
   "outputs": [],
   "source": [
    "# plotting_scratch--pa_angle\n",
    "#\n",
    "# A scratchpad for astroplan parallactic angle plots.\n",
    "#\n",
    "# Authored by Jazmin Berlanga Medina.\n",
    "# Summer 2015.\n",
    "# \n",
    "\n",
    "import numpy as np\n",
    "import matplotlib.pyplot as plt\n",
    "\n",
    "# Pull in input from file.\n",
    "times, pa_angles = np.loadtxt(\"parallactic_data\", delimiter='\\t', usecols=(0, 1), unpack=True)\n",
    "#pa_angle = np.loadtxt(\"parallactic_data\", delimiter='\\t', usecols=(1,), unpack=True)\n",
    "#times = []\n",
    "#for i in range(0, len(pa_angle)):\n",
    "#    times.append(i)\n",
    "\n",
    "date = \"2015-01-15\"\n",
    "\n",
    "# Set up axes & plot.\n",
    "ax = plt.gca()\n",
    "pa_angle = ax.scatter(times, pa_angles, color='r')\n",
    "\n",
    "pa_angle2 = ax.scatter(times, 1.5*pa_angles, color='k')\n",
    "\n",
    "# Set labels, title, legend, etc.\n",
    "ax.set_ylabel(\"Parallactic Angle\")\n",
    "ax.set_xlabel(\"Hour\")\n",
    "ax.set_title(\"Parallactic Angle vs Time - Sirius - \"+date)\n",
    "\n",
    "plt.show()\n"
   ]
  },
  {
   "cell_type": "code",
   "execution_count": null,
   "metadata": {
    "collapsed": true
   },
   "outputs": [],
   "source": []
  }
 ],
 "metadata": {
  "kernelspec": {
   "display_name": "Python 3",
   "language": "python",
   "name": "python3"
  },
  "language_info": {
   "codemirror_mode": {
    "name": "ipython",
    "version": 3
   },
   "file_extension": ".py",
   "mimetype": "text/x-python",
   "name": "python",
   "nbconvert_exporter": "python",
   "pygments_lexer": "ipython3",
   "version": "3.4.3"
  }
 },
 "nbformat": 4,
 "nbformat_minor": 0
}
